{
 "cells": [
  {
   "cell_type": "code",
   "execution_count": 1,
   "id": "590887f9",
   "metadata": {
    "_cell_guid": "b1076dfc-b9ad-4769-8c92-a6c4dae69d19",
    "_uuid": "8f2839f25d086af736a60e9eeb907d3b93b6e0e5",
    "execution": {
     "iopub.execute_input": "2023-04-16T16:28:47.752029Z",
     "iopub.status.busy": "2023-04-16T16:28:47.750659Z",
     "iopub.status.idle": "2023-04-16T16:28:47.763091Z",
     "shell.execute_reply": "2023-04-16T16:28:47.762119Z"
    },
    "papermill": {
     "duration": 0.02019,
     "end_time": "2023-04-16T16:28:47.765303",
     "exception": false,
     "start_time": "2023-04-16T16:28:47.745113",
     "status": "completed"
    },
    "tags": []
   },
   "outputs": [],
   "source": [
    "# This Python 3 environment comes with many helpful analytics libraries installed\n",
    "# It is defined by the kaggle/python Docker image: https://github.com/kaggle/docker-python\n",
    "# For example, here's several helpful packages to load\n",
    "\n",
    "import numpy as np # linear algebra\n",
    "import pandas as pd # data processing, CSV file I/O (e.g. pd.read_csv)\n",
    "\n",
    "# Input data files are available in the read-only \"../input/\" directory\n",
    "# For example, running this (by clicking run or pressing Shift+Enter) will list all files under the input directory\n",
    "\n",
    "import os\n",
    "# for dirname, _, filenames in os.walk('/kaggle/input'):\n",
    "#     for filename in filenames:\n",
    "#         print(os.path.join(dirname, filename))\n",
    "\n",
    "# You can write up to 20GB to the current directory (/kaggle/working/) that gets preserved as output when you create a version using \"Save & Run All\" \n",
    "# You can also write temporary files to /kaggle/temp/, but they won't be saved outside of the current session"
   ]
  },
  {
   "cell_type": "code",
   "execution_count": 2,
   "id": "596b6798",
   "metadata": {
    "execution": {
     "iopub.execute_input": "2023-04-16T16:28:47.772360Z",
     "iopub.status.busy": "2023-04-16T16:28:47.772024Z",
     "iopub.status.idle": "2023-04-16T16:28:55.344344Z",
     "shell.execute_reply": "2023-04-16T16:28:55.343123Z"
    },
    "papermill": {
     "duration": 7.578736,
     "end_time": "2023-04-16T16:28:55.347085",
     "exception": false,
     "start_time": "2023-04-16T16:28:47.768349",
     "status": "completed"
    },
    "tags": []
   },
   "outputs": [],
   "source": [
    "import numpy as np\n",
    "import cv2\n",
    "# from tensorflow.keras.emotion_models import Sequential\n",
    "from tensorflow.keras.models import Sequential\n",
    "from keras.layers import Dense, Dropout, Flatten\n",
    "from keras.layers import Conv2D\n",
    "from keras.optimizers import Adam\n",
    "from keras.layers import MaxPooling2D\n",
    "from keras.preprocessing.image import ImageDataGenerator\n",
    "\n",
    "import matplotlib.pyplot as plt"
   ]
  },
  {
   "cell_type": "code",
   "execution_count": 3,
   "id": "43c9fef0",
   "metadata": {
    "execution": {
     "iopub.execute_input": "2023-04-16T16:28:55.354840Z",
     "iopub.status.busy": "2023-04-16T16:28:55.354187Z",
     "iopub.status.idle": "2023-04-16T16:28:55.369655Z",
     "shell.execute_reply": "2023-04-16T16:28:55.368635Z"
    },
    "papermill": {
     "duration": 0.02154,
     "end_time": "2023-04-16T16:28:55.371837",
     "exception": false,
     "start_time": "2023-04-16T16:28:55.350297",
     "status": "completed"
    },
    "tags": []
   },
   "outputs": [
    {
     "data": {
      "text/plain": [
       "['surprise', 'fear', 'angry', 'neutral', 'sad', 'disgust', 'happy']"
      ]
     },
     "execution_count": 3,
     "metadata": {},
     "output_type": "execute_result"
    }
   ],
   "source": [
    "path = '/kaggle/input/fer2013/train'\n",
    "classes = os.listdir(path)\n",
    "classes"
   ]
  },
  {
   "cell_type": "code",
   "execution_count": 4,
   "id": "d8ac8c29",
   "metadata": {
    "execution": {
     "iopub.execute_input": "2023-04-16T16:28:55.379970Z",
     "iopub.status.busy": "2023-04-16T16:28:55.378934Z",
     "iopub.status.idle": "2023-04-16T16:28:56.318931Z",
     "shell.execute_reply": "2023-04-16T16:28:56.317845Z"
    },
    "papermill": {
     "duration": 0.946159,
     "end_time": "2023-04-16T16:28:56.321079",
     "exception": false,
     "start_time": "2023-04-16T16:28:55.374920",
     "status": "completed"
    },
    "tags": []
   },
   "outputs": [
    {
     "data": {
      "image/png": "[encoded data removed]",
      "text/plain": [
       "<Figure size 640x480 with 1 Axes>"
      ]
     },
     "metadata": {},
     "output_type": "display_data"
    }
   ],
   "source": [
    "count = []\n",
    "for c in classes:\n",
    "    count.append(len(os.listdir(f'{path}/{c}')))\n",
    "plt.bar(classes, count)\n",
    "plt.show()"
   ]
  },
  {
   "cell_type": "code",
   "execution_count": 5,
   "id": "29b6ed16",
   "metadata": {
    "execution": {
     "iopub.execute_input": "2023-04-16T16:28:56.330656Z",
     "iopub.status.busy": "2023-04-16T16:28:56.328883Z",
     "iopub.status.idle": "2023-04-16T16:29:10.516300Z",
     "shell.execute_reply": "2023-04-16T16:29:10.515209Z"
    },
    "papermill": {
     "duration": 14.194354,
     "end_time": "2023-04-16T16:29:10.518886",
     "exception": false,
     "start_time": "2023-04-16T16:28:56.324532",
     "status": "completed"
    },
    "tags": []
   },
   "outputs": [
    {
     "name": "stdout",
     "output_type": "stream",
     "text": [
      "Found 28709 images belonging to 7 classes.\n",
      "Found 7178 images belonging to 7 classes.\n"
     ]
    }
   ],
   "source": [
    "train_dir = '/kaggle/input/fer2013/train'\n",
    "val_dir = '/kaggle/input/fer2013/test'\n",
    "train_datagen = ImageDataGenerator(rescale=1./255)\n",
    "val_datagen = ImageDataGenerator(rescale=1./255)\n",
    "\n",
    "train_generator = train_datagen.flow_from_directory(\n",
    "        train_dir,\n",
    "        target_size=(48,48),\n",
    "        batch_size=64,\n",
    "        color_mode=\"grayscale\",\n",
    "        class_mode='categorical')\n",
    "\n",
    "validation_generator = val_datagen.flow_from_directory(\n",
    "        val_dir,\n",
    "        target_size=(48,48),\n",
    "        batch_size=64,\n",
    "        color_mode=\"grayscale\",\n",
    "        class_mode='categorical')"
   ]
  },
  {
   "cell_type": "code",
   "execution_count": 6,
   "id": "3b04a297",
   "metadata": {
    "execution": {
     "iopub.execute_input": "2023-04-16T16:29:10.527384Z",
     "iopub.status.busy": "2023-04-16T16:29:10.527012Z",
     "iopub.status.idle": "2023-04-16T16:29:13.336167Z",
     "shell.execute_reply": "2023-04-16T16:29:13.335115Z"
    },
    "papermill": {
     "duration": 2.81684,
     "end_time": "2023-04-16T16:29:13.339265",
     "exception": false,
     "start_time": "2023-04-16T16:29:10.522425",
     "status": "completed"
    },
    "tags": []
   },
   "outputs": [],
   "source": [
    "emotion_model = Sequential()\n",
    "\n",
    "emotion_model.add(Conv2D(32, kernel_size=(3, 3), activation='relu', input_shape=(48,48,1)))\n",
    "emotion_model.add(Conv2D(64, kernel_size=(3, 3), activation='relu'))\n",
    "emotion_model.add(MaxPooling2D(pool_size=(2, 2)))\n",
    "emotion_model.add(Dropout(0.25))\n",
    "\n",
    "emotion_model.add(Conv2D(128, kernel_size=(3, 3), activation='relu'))\n",
    "emotion_model.add(MaxPooling2D(pool_size=(2, 2)))\n",
    "emotion_model.add(Conv2D(128, kernel_size=(3, 3), activation='relu'))\n",
    "emotion_model.add(MaxPooling2D(pool_size=(2, 2)))\n",
    "emotion_model.add(Dropout(0.25))\n",
    "\n",
    "emotion_model.add(Flatten())\n",
    "emotion_model.add(Dense(1024, activation='relu'))\n",
    "emotion_model.add(Dropout(0.5))\n",
    "emotion_model.add(Dense(7, activation='softmax'))"
   ]
  },
  {
   "cell_type": "code",
   "execution_count": 7,
   "id": "34b0682b",
   "metadata": {
    "execution": {
     "iopub.execute_input": "2023-04-16T16:29:13.350238Z",
     "iopub.status.busy": "2023-04-16T16:29:13.349915Z",
     "iopub.status.idle": "2023-04-16T16:29:13.475394Z",
     "shell.execute_reply": "2023-04-16T16:29:13.474330Z"
    },
    "papermill": {
     "duration": 0.135426,
     "end_time": "2023-04-16T16:29:13.479608",
     "exception": false,
     "start_time": "2023-04-16T16:29:13.344182",
     "status": "completed"
    },
    "tags": []
   },
   "outputs": [],
   "source": [
    "emotion_model.save('model1.h5')\n",
    "emotion_model.save_weights('model.h5')"
   ]
  },
  {
   "cell_type": "code",
   "execution_count": 8,
   "id": "378a4434",
   "metadata": {
    "execution": {
     "iopub.execute_input": "2023-04-16T16:29:13.490927Z",
     "iopub.status.busy": "2023-04-16T16:29:13.490439Z",
     "iopub.status.idle": "2023-04-16T17:34:43.536512Z",
     "shell.execute_reply": "2023-04-16T17:34:43.535427Z"
    },
    "papermill": {
     "duration": 3930.054059,
     "end_time": "2023-04-16T17:34:43.538843",
     "exception": false,
     "start_time": "2023-04-16T16:29:13.484784",
     "status": "completed"
    },
    "tags": []
   },
   "outputs": [
    {
     "name": "stderr",
     "output_type": "stream",
     "text": [
      "/opt/conda/lib/python3.7/site-packages/keras/optimizers/optimizer_v2/adam.py:117: UserWarning: The `lr` argument is deprecated, use `learning_rate` instead.\n",
      "  super().__init__(name, **kwargs)\n",
      "/opt/conda/lib/python3.7/site-packages/ipykernel_launcher.py:8: UserWarning: `Model.fit_generator` is deprecated and will be removed in a future version. Please use `Model.fit`, which supports generators.\n",
      "  \n"
     ]
    },
    {
     "name": "stdout",
     "output_type": "stream",
     "text": [
      "Epoch 1/100\n"
     ]
    },
    {
     "name": "stderr",
     "output_type": "stream",
     "text": [
      "2023-04-16 16:29:14.842952: E tensorflow/core/grappler/optimizers/meta_optimizer.cc:954] layout failed: INVALID_ARGUMENT: Size of values 0 does not match size of permutation 4 @ fanin shape insequential/dropout/dropout/SelectV2-2-TransposeNHWCToNCHW-LayoutOptimizer\n"
     ]
    },
    {
     "name": "stdout",
     "output_type": "stream",
     "text": [
      "448/448 [==============================] - 169s 363ms/step - loss: 1.7932 - accuracy: 0.2653 - val_loss: 1.6835 - val_accuracy: 0.3665\n",
      "Epoch 2/100\n",
      "448/448 [==============================] - 31s 70ms/step - loss: 1.6149 - accuracy: 0.3733 - val_loss: 1.5359 - val_accuracy: 0.4100\n",
      "Epoch 3/100\n",
      "448/448 [==============================] - 32s 72ms/step - loss: 1.5220 - accuracy: 0.4166 - val_loss: 1.4569 - val_accuracy: 0.4453\n",
      "Epoch 4/100\n",
      "448/448 [==============================] - 33s 73ms/step - loss: 1.4578 - accuracy: 0.4434 - val_loss: 1.4124 - val_accuracy: 0.4552\n",
      "Epoch 5/100\n",
      "448/448 [==============================] - 32s 71ms/step - loss: 1.3998 - accuracy: 0.4640 - val_loss: 1.3600 - val_accuracy: 0.4817\n",
      "Epoch 6/100\n",
      "448/448 [==============================] - 32s 71ms/step - loss: 1.3509 - accuracy: 0.4870 - val_loss: 1.3185 - val_accuracy: 0.5015\n",
      "Epoch 7/100\n",
      "448/448 [==============================] - 32s 71ms/step - loss: 1.3062 - accuracy: 0.5057 - val_loss: 1.2843 - val_accuracy: 0.5126\n",
      "Epoch 8/100\n",
      "448/448 [==============================] - 37s 83ms/step - loss: 1.2673 - accuracy: 0.5208 - val_loss: 1.2691 - val_accuracy: 0.5199\n",
      "Epoch 9/100\n",
      "448/448 [==============================] - 31s 69ms/step - loss: 1.2359 - accuracy: 0.5367 - val_loss: 1.2260 - val_accuracy: 0.5345\n",
      "Epoch 10/100\n",
      "448/448 [==============================] - 35s 79ms/step - loss: 1.2055 - accuracy: 0.5486 - val_loss: 1.2137 - val_accuracy: 0.5409\n",
      "Epoch 11/100\n",
      "448/448 [==============================] - 32s 72ms/step - loss: 1.1714 - accuracy: 0.5626 - val_loss: 1.1853 - val_accuracy: 0.5498\n",
      "Epoch 12/100\n",
      "448/448 [==============================] - 32s 72ms/step - loss: 1.1446 - accuracy: 0.5694 - val_loss: 1.1678 - val_accuracy: 0.5569\n",
      "Epoch 13/100\n",
      "448/448 [==============================] - 33s 73ms/step - loss: 1.1168 - accuracy: 0.5844 - val_loss: 1.1584 - val_accuracy: 0.5649\n",
      "Epoch 14/100\n",
      "448/448 [==============================] - 31s 70ms/step - loss: 1.0898 - accuracy: 0.5928 - val_loss: 1.1420 - val_accuracy: 0.5706\n",
      "Epoch 15/100\n",
      "448/448 [==============================] - 36s 80ms/step - loss: 1.0682 - accuracy: 0.6024 - val_loss: 1.1304 - val_accuracy: 0.5739\n",
      "Epoch 16/100\n",
      "448/448 [==============================] - 36s 81ms/step - loss: 1.0448 - accuracy: 0.6131 - val_loss: 1.1250 - val_accuracy: 0.5724\n",
      "Epoch 17/100\n",
      "448/448 [==============================] - 33s 73ms/step - loss: 1.0155 - accuracy: 0.6246 - val_loss: 1.1181 - val_accuracy: 0.5792\n",
      "Epoch 18/100\n",
      "448/448 [==============================] - 33s 74ms/step - loss: 0.9967 - accuracy: 0.6319 - val_loss: 1.1034 - val_accuracy: 0.5859\n",
      "Epoch 19/100\n",
      "448/448 [==============================] - 32s 72ms/step - loss: 0.9719 - accuracy: 0.6421 - val_loss: 1.0993 - val_accuracy: 0.5871\n",
      "Epoch 20/100\n",
      "448/448 [==============================] - 31s 70ms/step - loss: 0.9401 - accuracy: 0.6537 - val_loss: 1.0940 - val_accuracy: 0.5903\n",
      "Epoch 21/100\n",
      "448/448 [==============================] - 32s 72ms/step - loss: 0.9253 - accuracy: 0.6606 - val_loss: 1.1028 - val_accuracy: 0.5898\n",
      "Epoch 22/100\n",
      "448/448 [==============================] - 33s 73ms/step - loss: 0.9043 - accuracy: 0.6657 - val_loss: 1.0898 - val_accuracy: 0.5956\n",
      "Epoch 23/100\n",
      "448/448 [==============================] - 37s 82ms/step - loss: 0.8794 - accuracy: 0.6765 - val_loss: 1.0806 - val_accuracy: 0.5971\n",
      "Epoch 24/100\n",
      "448/448 [==============================] - 38s 84ms/step - loss: 0.8537 - accuracy: 0.6863 - val_loss: 1.1110 - val_accuracy: 0.5925\n",
      "Epoch 25/100\n",
      "448/448 [==============================] - 33s 74ms/step - loss: 0.8343 - accuracy: 0.6949 - val_loss: 1.0800 - val_accuracy: 0.6051\n",
      "Epoch 26/100\n",
      "448/448 [==============================] - 32s 70ms/step - loss: 0.8102 - accuracy: 0.7038 - val_loss: 1.0871 - val_accuracy: 0.6063\n",
      "Epoch 27/100\n",
      "448/448 [==============================] - 32s 72ms/step - loss: 0.7813 - accuracy: 0.7131 - val_loss: 1.0940 - val_accuracy: 0.6070\n",
      "Epoch 28/100\n",
      "448/448 [==============================] - 32s 70ms/step - loss: 0.7638 - accuracy: 0.7205 - val_loss: 1.0827 - val_accuracy: 0.6056\n",
      "Epoch 29/100\n",
      "448/448 [==============================] - 37s 83ms/step - loss: 0.7332 - accuracy: 0.7318 - val_loss: 1.0962 - val_accuracy: 0.6052\n",
      "Epoch 30/100\n",
      "448/448 [==============================] - 37s 83ms/step - loss: 0.7122 - accuracy: 0.7412 - val_loss: 1.1028 - val_accuracy: 0.6071\n",
      "Epoch 31/100\n",
      "448/448 [==============================] - 37s 82ms/step - loss: 0.6989 - accuracy: 0.7459 - val_loss: 1.0801 - val_accuracy: 0.6140\n",
      "Epoch 32/100\n",
      "448/448 [==============================] - 32s 71ms/step - loss: 0.6709 - accuracy: 0.7578 - val_loss: 1.0980 - val_accuracy: 0.6115\n",
      "Epoch 33/100\n",
      "448/448 [==============================] - 36s 80ms/step - loss: 0.6489 - accuracy: 0.7672 - val_loss: 1.0934 - val_accuracy: 0.6150\n",
      "Epoch 34/100\n",
      "448/448 [==============================] - 31s 70ms/step - loss: 0.6314 - accuracy: 0.7722 - val_loss: 1.0909 - val_accuracy: 0.6144\n",
      "Epoch 35/100\n",
      "448/448 [==============================] - 32s 71ms/step - loss: 0.6092 - accuracy: 0.7790 - val_loss: 1.1220 - val_accuracy: 0.6184\n",
      "Epoch 36/100\n",
      "448/448 [==============================] - 36s 79ms/step - loss: 0.5764 - accuracy: 0.7917 - val_loss: 1.1193 - val_accuracy: 0.6175\n",
      "Epoch 37/100\n",
      "448/448 [==============================] - 31s 69ms/step - loss: 0.5699 - accuracy: 0.7939 - val_loss: 1.1215 - val_accuracy: 0.6197\n",
      "Epoch 38/100\n",
      "448/448 [==============================] - 36s 81ms/step - loss: 0.5550 - accuracy: 0.8004 - val_loss: 1.1303 - val_accuracy: 0.6208\n",
      "Epoch 39/100\n",
      "448/448 [==============================] - 36s 80ms/step - loss: 0.5264 - accuracy: 0.8097 - val_loss: 1.1314 - val_accuracy: 0.6214\n",
      "Epoch 40/100\n",
      "448/448 [==============================] - 32s 72ms/step - loss: 0.5186 - accuracy: 0.8121 - val_loss: 1.1419 - val_accuracy: 0.6184\n",
      "Epoch 41/100\n",
      "448/448 [==============================] - 36s 81ms/step - loss: 0.4951 - accuracy: 0.8221 - val_loss: 1.1631 - val_accuracy: 0.6134\n",
      "Epoch 42/100\n",
      "448/448 [==============================] - 37s 82ms/step - loss: 0.4801 - accuracy: 0.8280 - val_loss: 1.1730 - val_accuracy: 0.6154\n",
      "Epoch 43/100\n",
      "448/448 [==============================] - 37s 81ms/step - loss: 0.4621 - accuracy: 0.8339 - val_loss: 1.1749 - val_accuracy: 0.6175\n",
      "Epoch 44/100\n",
      "448/448 [==============================] - 32s 71ms/step - loss: 0.4506 - accuracy: 0.8379 - val_loss: 1.1982 - val_accuracy: 0.6130\n",
      "Epoch 45/100\n",
      "448/448 [==============================] - 32s 71ms/step - loss: 0.4362 - accuracy: 0.8424 - val_loss: 1.1896 - val_accuracy: 0.6157\n",
      "Epoch 46/100\n",
      "448/448 [==============================] - 32s 71ms/step - loss: 0.4181 - accuracy: 0.8485 - val_loss: 1.2027 - val_accuracy: 0.6134\n",
      "Epoch 47/100\n",
      "448/448 [==============================] - 32s 71ms/step - loss: 0.4069 - accuracy: 0.8530 - val_loss: 1.1958 - val_accuracy: 0.6186\n",
      "Epoch 48/100\n",
      "448/448 [==============================] - 37s 82ms/step - loss: 0.3917 - accuracy: 0.8582 - val_loss: 1.2132 - val_accuracy: 0.6168\n",
      "Epoch 49/100\n",
      "448/448 [==============================] - 33s 73ms/step - loss: 0.3796 - accuracy: 0.8634 - val_loss: 1.2221 - val_accuracy: 0.6190\n",
      "Epoch 50/100\n",
      "448/448 [==============================] - 32s 72ms/step - loss: 0.3685 - accuracy: 0.8676 - val_loss: 1.2474 - val_accuracy: 0.6217\n",
      "Epoch 51/100\n",
      "448/448 [==============================] - 37s 82ms/step - loss: 0.3621 - accuracy: 0.8712 - val_loss: 1.2417 - val_accuracy: 0.6170\n",
      "Epoch 52/100\n",
      "448/448 [==============================] - 32s 72ms/step - loss: 0.3460 - accuracy: 0.8768 - val_loss: 1.2738 - val_accuracy: 0.6246\n",
      "Epoch 53/100\n",
      "448/448 [==============================] - 32s 72ms/step - loss: 0.3374 - accuracy: 0.8794 - val_loss: 1.2284 - val_accuracy: 0.6214\n",
      "Epoch 54/100\n",
      "448/448 [==============================] - 36s 81ms/step - loss: 0.3249 - accuracy: 0.8833 - val_loss: 1.2939 - val_accuracy: 0.6233\n",
      "Epoch 55/100\n",
      "448/448 [==============================] - 31s 70ms/step - loss: 0.3177 - accuracy: 0.8852 - val_loss: 1.2813 - val_accuracy: 0.6196\n",
      "Epoch 56/100\n",
      "448/448 [==============================] - 31s 70ms/step - loss: 0.3128 - accuracy: 0.8878 - val_loss: 1.2939 - val_accuracy: 0.6212\n",
      "Epoch 57/100\n",
      "448/448 [==============================] - 36s 81ms/step - loss: 0.3070 - accuracy: 0.8903 - val_loss: 1.2836 - val_accuracy: 0.6196\n",
      "Epoch 58/100\n",
      "448/448 [==============================] - 32s 71ms/step - loss: 0.2998 - accuracy: 0.8924 - val_loss: 1.3016 - val_accuracy: 0.6205\n",
      "Epoch 59/100\n",
      "448/448 [==============================] - 35s 79ms/step - loss: 0.2889 - accuracy: 0.8975 - val_loss: 1.3088 - val_accuracy: 0.6159\n",
      "Epoch 60/100\n",
      "448/448 [==============================] - 31s 69ms/step - loss: 0.2766 - accuracy: 0.9034 - val_loss: 1.3179 - val_accuracy: 0.6203\n",
      "Epoch 61/100\n",
      "448/448 [==============================] - 31s 70ms/step - loss: 0.2696 - accuracy: 0.9047 - val_loss: 1.3214 - val_accuracy: 0.6204\n",
      "Epoch 62/100\n",
      "448/448 [==============================] - 35s 79ms/step - loss: 0.2694 - accuracy: 0.9045 - val_loss: 1.3456 - val_accuracy: 0.6217\n",
      "Epoch 63/100\n",
      "448/448 [==============================] - 31s 70ms/step - loss: 0.2559 - accuracy: 0.9087 - val_loss: 1.3464 - val_accuracy: 0.6203\n",
      "Epoch 64/100\n",
      "448/448 [==============================] - 36s 81ms/step - loss: 0.2550 - accuracy: 0.9091 - val_loss: 1.3592 - val_accuracy: 0.6214\n",
      "Epoch 65/100\n",
      "448/448 [==============================] - 36s 81ms/step - loss: 0.2479 - accuracy: 0.9142 - val_loss: 1.3537 - val_accuracy: 0.6203\n",
      "Epoch 66/100\n",
      "448/448 [==============================] - 32s 72ms/step - loss: 0.2434 - accuracy: 0.9142 - val_loss: 1.3829 - val_accuracy: 0.6182\n",
      "Epoch 67/100\n",
      "448/448 [==============================] - 32s 72ms/step - loss: 0.2335 - accuracy: 0.9164 - val_loss: 1.3818 - val_accuracy: 0.6218\n",
      "Epoch 68/100\n",
      "448/448 [==============================] - 32s 71ms/step - loss: 0.2375 - accuracy: 0.9154 - val_loss: 1.3844 - val_accuracy: 0.6170\n",
      "Epoch 69/100\n",
      "448/448 [==============================] - 36s 80ms/step - loss: 0.2254 - accuracy: 0.9206 - val_loss: 1.4062 - val_accuracy: 0.6173\n",
      "Epoch 70/100\n",
      "448/448 [==============================] - 31s 70ms/step - loss: 0.2255 - accuracy: 0.9190 - val_loss: 1.4600 - val_accuracy: 0.6184\n",
      "Epoch 71/100\n",
      "448/448 [==============================] - 32s 72ms/step - loss: 0.2213 - accuracy: 0.9215 - val_loss: 1.4061 - val_accuracy: 0.6189\n",
      "Epoch 72/100\n",
      "448/448 [==============================] - 32s 71ms/step - loss: 0.2167 - accuracy: 0.9224 - val_loss: 1.4090 - val_accuracy: 0.6173\n",
      "Epoch 73/100\n",
      "448/448 [==============================] - 37s 83ms/step - loss: 0.2074 - accuracy: 0.9266 - val_loss: 1.4292 - val_accuracy: 0.6150\n",
      "Epoch 74/100\n",
      "448/448 [==============================] - 36s 81ms/step - loss: 0.2072 - accuracy: 0.9263 - val_loss: 1.4202 - val_accuracy: 0.6127\n",
      "Epoch 75/100\n",
      "448/448 [==============================] - 33s 73ms/step - loss: 0.2061 - accuracy: 0.9273 - val_loss: 1.4867 - val_accuracy: 0.6124\n",
      "Epoch 76/100\n",
      "448/448 [==============================] - 32s 72ms/step - loss: 0.1979 - accuracy: 0.9295 - val_loss: 1.4577 - val_accuracy: 0.6189\n",
      "Epoch 77/100\n",
      "448/448 [==============================] - 36s 80ms/step - loss: 0.1977 - accuracy: 0.9312 - val_loss: 1.4838 - val_accuracy: 0.6208\n",
      "Epoch 78/100\n",
      "448/448 [==============================] - 36s 80ms/step - loss: 0.1908 - accuracy: 0.9335 - val_loss: 1.4327 - val_accuracy: 0.6207\n",
      "Epoch 79/100\n",
      "448/448 [==============================] - 31s 70ms/step - loss: 0.1860 - accuracy: 0.9358 - val_loss: 1.4754 - val_accuracy: 0.6200\n",
      "Epoch 80/100\n",
      "448/448 [==============================] - 32s 72ms/step - loss: 0.1863 - accuracy: 0.9363 - val_loss: 1.4871 - val_accuracy: 0.6191\n",
      "Epoch 81/100\n",
      "448/448 [==============================] - 37s 83ms/step - loss: 0.1851 - accuracy: 0.9352 - val_loss: 1.4301 - val_accuracy: 0.6212\n",
      "Epoch 82/100\n",
      "448/448 [==============================] - 32s 72ms/step - loss: 0.1807 - accuracy: 0.9364 - val_loss: 1.4850 - val_accuracy: 0.6193\n",
      "Epoch 83/100\n",
      "448/448 [==============================] - 32s 72ms/step - loss: 0.1804 - accuracy: 0.9371 - val_loss: 1.4773 - val_accuracy: 0.6212\n",
      "Epoch 84/100\n",
      "448/448 [==============================] - 33s 73ms/step - loss: 0.1693 - accuracy: 0.9403 - val_loss: 1.5252 - val_accuracy: 0.6183\n",
      "Epoch 85/100\n",
      "448/448 [==============================] - 32s 71ms/step - loss: 0.1669 - accuracy: 0.9420 - val_loss: 1.5172 - val_accuracy: 0.6210\n",
      "Epoch 86/100\n",
      "448/448 [==============================] - 32s 71ms/step - loss: 0.1697 - accuracy: 0.9398 - val_loss: 1.5002 - val_accuracy: 0.6176\n",
      "Epoch 87/100\n",
      "448/448 [==============================] - 34s 75ms/step - loss: 0.1672 - accuracy: 0.9413 - val_loss: 1.5678 - val_accuracy: 0.6180\n",
      "Epoch 88/100\n",
      "448/448 [==============================] - 34s 75ms/step - loss: 0.1698 - accuracy: 0.9412 - val_loss: 1.4871 - val_accuracy: 0.6183\n",
      "Epoch 89/100\n",
      "448/448 [==============================] - 33s 74ms/step - loss: 0.1607 - accuracy: 0.9442 - val_loss: 1.5106 - val_accuracy: 0.6211\n",
      "Epoch 90/100\n",
      "448/448 [==============================] - 38s 84ms/step - loss: 0.1595 - accuracy: 0.9442 - val_loss: 1.4910 - val_accuracy: 0.6164\n",
      "Epoch 91/100\n",
      "448/448 [==============================] - 32s 72ms/step - loss: 0.1589 - accuracy: 0.9437 - val_loss: 1.5753 - val_accuracy: 0.6177\n",
      "Epoch 92/100\n",
      "448/448 [==============================] - 36s 81ms/step - loss: 0.1543 - accuracy: 0.9455 - val_loss: 1.5543 - val_accuracy: 0.6205\n",
      "Epoch 93/100\n",
      "448/448 [==============================] - 32s 72ms/step - loss: 0.1521 - accuracy: 0.9476 - val_loss: 1.5119 - val_accuracy: 0.6261\n",
      "Epoch 94/100\n",
      "448/448 [==============================] - 32s 71ms/step - loss: 0.1527 - accuracy: 0.9451 - val_loss: 1.5492 - val_accuracy: 0.6190\n",
      "Epoch 95/100\n",
      "448/448 [==============================] - 32s 72ms/step - loss: 0.1500 - accuracy: 0.9471 - val_loss: 1.5486 - val_accuracy: 0.6242\n",
      "Epoch 96/100\n",
      "448/448 [==============================] - 32s 72ms/step - loss: 0.1514 - accuracy: 0.9461 - val_loss: 1.5661 - val_accuracy: 0.6212\n",
      "Epoch 97/100\n",
      "448/448 [==============================] - 33s 73ms/step - loss: 0.1400 - accuracy: 0.9513 - val_loss: 1.5825 - val_accuracy: 0.6229\n",
      "Epoch 98/100\n",
      "448/448 [==============================] - 37s 83ms/step - loss: 0.1425 - accuracy: 0.9504 - val_loss: 1.5954 - val_accuracy: 0.6212\n",
      "Epoch 99/100\n",
      "448/448 [==============================] - 32s 72ms/step - loss: 0.1387 - accuracy: 0.9526 - val_loss: 1.6105 - val_accuracy: 0.6191\n",
      "Epoch 100/100\n",
      "448/448 [==============================] - 37s 82ms/step - loss: 0.1385 - accuracy: 0.9533 - val_loss: 1.6032 - val_accuracy: 0.6197\n"
     ]
    }
   ],
   "source": [
    "emotion_model.compile(loss='categorical_crossentropy',optimizer=Adam(lr=0.0001, decay=1e-6),metrics=['accuracy'])\n",
    "\n",
    "emotion_model_info = emotion_model.fit_generator(\n",
    "        train_generator,\n",
    "        steps_per_epoch=28709 // 64,\n",
    "        epochs=100,\n",
    "        validation_data=validation_generator,\n",
    "        validation_steps=7178 // 64)"
   ]
  },
  {
   "cell_type": "code",
   "execution_count": 9,
   "id": "79502e15",
   "metadata": {
    "execution": {
     "iopub.execute_input": "2023-04-16T17:34:48.670688Z",
     "iopub.status.busy": "2023-04-16T17:34:48.670311Z",
     "iopub.status.idle": "2023-04-16T17:34:48.925259Z",
     "shell.execute_reply": "2023-04-16T17:34:48.924212Z"
    },
    "papermill": {
     "duration": 2.906952,
     "end_time": "2023-04-16T17:34:48.928346",
     "exception": false,
     "start_time": "2023-04-16T17:34:46.021394",
     "status": "completed"
    },
    "tags": []
   },
   "outputs": [
    {
     "data": {
      "image/png": "[encoded data removed]",
      "text/plain": [
       "<Figure size 640x480 with 1 Axes>"
      ]
     },
     "metadata": {},
     "output_type": "display_data"
    }
   ],
   "source": [
    "plt.style.use(\"ggplot\")\n",
    "N = 100\n",
    "plt.plot(np.arange(0,N), emotion_model_info.history[\"loss\"], label=\"train_loss\")\n",
    "plt.plot(np.arange(0,N), emotion_model_info.history[\"val_loss\"], label=\"val_loss\")\n",
    "plt.plot(np.arange(0,N), emotion_model_info.history[\"accuracy\"], label=\"train_acc\")\n",
    "plt.plot(np.arange(0,N), emotion_model_info.history[\"val_accuracy\"], label=\"val_acc\")\n",
    "\n",
    "plt.title(\"Training Loss and Accuracy\")\n",
    "plt.xlabel(\"No of Epochs\")\n",
    "plt.ylabel(\"Loss/Accuracy\")\n",
    "plt.legend()#loc=\"upper right\"\n",
    "plt.show()\n"
   ]
  },
  {
   "cell_type": "code",
   "execution_count": 10,
   "id": "30a7aae3",
   "metadata": {
    "execution": {
     "iopub.execute_input": "2023-04-16T17:34:53.976605Z",
     "iopub.status.busy": "2023-04-16T17:34:53.976207Z",
     "iopub.status.idle": "2023-04-16T17:34:54.120364Z",
     "shell.execute_reply": "2023-04-16T17:34:54.118952Z"
    },
    "papermill": {
     "duration": 2.705793,
     "end_time": "2023-04-16T17:34:54.124133",
     "exception": false,
     "start_time": "2023-04-16T17:34:51.418340",
     "status": "completed"
    },
    "tags": []
   },
   "outputs": [],
   "source": [
    "emotion_model.save('model1.h5')\n",
    "emotion_model.save_weights('model.h5')"
   ]
  }
 ],
 "metadata": {
  "kernelspec": {
   "display_name": "Python 3",
   "language": "python",
   "name": "python3"
  },
  "language_info": {
   "codemirror_mode": {
    "name": "ipython",
    "version": 3
   },
   "file_extension": ".py",
   "mimetype": "text/x-python",
   "name": "python",
   "nbconvert_exporter": "python",
   "pygments_lexer": "ipython3",
   "version": "3.8.8"
  },
  "papermill": {
   "default_parameters": {},
   "duration": 3982.265922,
   "end_time": "2023-04-16T17:35:00.381555",
   "environment_variables": {},
   "exception": null,
   "input_path": "__notebook__.ipynb",
   "output_path": "__notebook__.ipynb",
   "parameters": {},
   "start_time": "2023-04-16T16:28:38.115633",
   "version": "2.4.0"
  }
 },
 "nbformat": 4,
 "nbformat_minor": 5
}
